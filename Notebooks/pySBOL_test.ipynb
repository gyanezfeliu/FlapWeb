{
 "cells": [
  {
   "cell_type": "code",
   "execution_count": 1,
   "metadata": {},
   "outputs": [
    {
     "ename": "NotImplementedError",
     "evalue": "Wrong number or type of arguments for overloaded function 'TopLevel_generateBuild'.\n  Possible C/C++ prototypes are:\n    sbol::TopLevel::generateBuild(std::string,sbol::Agent &,sbol::Plan &,PyObject *)\n    sbol::TopLevel::generate< Build >(std::string)\n    sbol::TopLevel::generate< Build >(std::string,sbol::Agent &,sbol::Plan &,std::vector< sbol::Identified *,std::allocator< sbol::Identified * > >)\n    sbol::TopLevel::generate< Build >(std::string,sbol::Agent &,sbol::Plan &)\n",
     "output_type": "error",
     "traceback": [
      "\u001b[0;31m---------------------------------------------------------------------------\u001b[0m",
      "\u001b[0;31mNotImplementedError\u001b[0m                       Traceback (most recent call last)",
      "\u001b[0;32m<ipython-input-1-9352b40bf4d5>\u001b[0m in \u001b[0;36m<module>\u001b[0;34m()\u001b[0m\n\u001b[1;32m     39\u001b[0m \u001b[0;34m\u001b[0m\u001b[0m\n\u001b[1;32m     40\u001b[0m \u001b[0mtarget\u001b[0m \u001b[0;34m=\u001b[0m \u001b[0mDesign\u001b[0m\u001b[0;34m(\u001b[0m\u001b[0;34m'target'\u001b[0m\u001b[0;34m)\u001b[0m\u001b[0;34m\u001b[0m\u001b[0m\n\u001b[0;32m---> 41\u001b[0;31m \u001b[0mpart1\u001b[0m \u001b[0;34m=\u001b[0m \u001b[0mworkflow_step_1\u001b[0m\u001b[0;34m.\u001b[0m\u001b[0mgenerateBuild\u001b[0m\u001b[0;34m(\u001b[0m\u001b[0;34m'part1'\u001b[0m\u001b[0;34m,\u001b[0m \u001b[0mtarget\u001b[0m\u001b[0;34m)\u001b[0m\u001b[0;34m\u001b[0m\u001b[0m\n\u001b[0m\u001b[1;32m     42\u001b[0m \u001b[0mpart2\u001b[0m \u001b[0;34m=\u001b[0m \u001b[0mworkflow_step_2\u001b[0m\u001b[0;34m.\u001b[0m\u001b[0mgenerateBuild\u001b[0m\u001b[0;34m(\u001b[0m\u001b[0;34m'part2'\u001b[0m\u001b[0;34m,\u001b[0m \u001b[0mtarget\u001b[0m\u001b[0;34m)\u001b[0m\u001b[0;34m\u001b[0m\u001b[0m\n\u001b[1;32m     43\u001b[0m \u001b[0mpart3\u001b[0m \u001b[0;34m=\u001b[0m \u001b[0mworkflow_step_3\u001b[0m\u001b[0;34m.\u001b[0m\u001b[0mgenerateBuild\u001b[0m\u001b[0;34m(\u001b[0m\u001b[0;34m'part3'\u001b[0m\u001b[0;34m,\u001b[0m \u001b[0mtarget\u001b[0m\u001b[0;34m)\u001b[0m\u001b[0;34m\u001b[0m\u001b[0m\n",
      "\u001b[0;32m~/anaconda3/lib/python3.6/site-packages/sbol/libsbol.py\u001b[0m in \u001b[0;36mgenerateBuild\u001b[0;34m(self, *args)\u001b[0m\n\u001b[1;32m   3493\u001b[0m \u001b[0;34m\u001b[0m\u001b[0m\n\u001b[1;32m   3494\u001b[0m     \u001b[0;32mdef\u001b[0m \u001b[0mgenerateBuild\u001b[0m\u001b[0;34m(\u001b[0m\u001b[0mself\u001b[0m\u001b[0;34m,\u001b[0m \u001b[0;34m*\u001b[0m\u001b[0margs\u001b[0m\u001b[0;34m)\u001b[0m\u001b[0;34m:\u001b[0m\u001b[0;34m\u001b[0m\u001b[0m\n\u001b[0;32m-> 3495\u001b[0;31m         \u001b[0;32mreturn\u001b[0m \u001b[0m_libsbol\u001b[0m\u001b[0;34m.\u001b[0m\u001b[0mTopLevel_generateBuild\u001b[0m\u001b[0;34m(\u001b[0m\u001b[0mself\u001b[0m\u001b[0;34m,\u001b[0m \u001b[0;34m*\u001b[0m\u001b[0margs\u001b[0m\u001b[0;34m)\u001b[0m\u001b[0;34m\u001b[0m\u001b[0m\n\u001b[0m\u001b[1;32m   3496\u001b[0m \u001b[0;34m\u001b[0m\u001b[0m\n\u001b[1;32m   3497\u001b[0m     \u001b[0;32mdef\u001b[0m \u001b[0mgenerateTest\u001b[0m\u001b[0;34m(\u001b[0m\u001b[0mself\u001b[0m\u001b[0;34m,\u001b[0m \u001b[0;34m*\u001b[0m\u001b[0margs\u001b[0m\u001b[0;34m)\u001b[0m\u001b[0;34m:\u001b[0m\u001b[0;34m\u001b[0m\u001b[0m\n",
      "\u001b[0;31mNotImplementedError\u001b[0m: Wrong number or type of arguments for overloaded function 'TopLevel_generateBuild'.\n  Possible C/C++ prototypes are:\n    sbol::TopLevel::generateBuild(std::string,sbol::Agent &,sbol::Plan &,PyObject *)\n    sbol::TopLevel::generate< Build >(std::string)\n    sbol::TopLevel::generate< Build >(std::string,sbol::Agent &,sbol::Plan &,std::vector< sbol::Identified *,std::allocator< sbol::Identified * > >)\n    sbol::TopLevel::generate< Build >(std::string,sbol::Agent &,sbol::Plan &)\n"
     ]
    }
   ],
   "source": [
    "from sbol import *\n",
    "\n",
    "doc=Document()\n",
    "setHomespace('https://sys-bio.org')\n",
    "\n",
    "doc = Document()\n",
    "\n",
    "workflow_step_1 = Activity('build_1')\n",
    "workflow_step_2 = Activity('build_2')\n",
    "workflow_step_3 = Activity('build_3')\n",
    "workflow_step_4 = Activity('build_4')\n",
    "workflow_step_5 = Activity('build_5')\n",
    "workflow_step_6 = Activity('test_1')\n",
    "workflow_step_7 = Activity('analysis_1')\n",
    "\n",
    "workflow_step_1.plan = Plan('PCR_protocol_part1')\n",
    "workflow_step_2.plan = Plan('PCR_protocol_part2')\n",
    "workflow_step_3.plan = Plan('PCR_protocol_part3')\n",
    "workflow_step_4.plan = Plan('gibson_assembly')\n",
    "workflow_step_5.plan = Plan('transformation')\n",
    "workflow_step_6.plan = Plan('promoter_characterization')\n",
    "workflow_step_7.plan = Plan('parameter_optimization')\n",
    "\n",
    "setHomespace('')\n",
    "Config.setOption('sbol_compliant_uris', False)  # Temporarily disable auto-construction of URIs\n",
    "\n",
    "workflow_step_1.agent = Agent('mailto:jdoe@sbols.org')\n",
    "workflow_step_2.agent = workflow_step_1.agent\n",
    "workflow_step_3.agent = workflow_step_1.agent\n",
    "workflow_step_4.agent = workflow_step_1.agent\n",
    "workflow_step_5.agent = workflow_step_1.agent\n",
    "workflow_step_6.agent = Agent('http://sys-bio.org/plate_reader_1')\n",
    "workflow_step_7.agent = Agent('http://tellurium.analogmachine.org')\n",
    "\n",
    "Config.setOption('sbol_compliant_uris', True)\n",
    "setHomespace('https://sys-bio.org')\n",
    "\n",
    "doc.addActivity([workflow_step_1, workflow_step_2, workflow_step_3, workflow_step_4, workflow_step_5, workflow_step_6, workflow_step_7])\n",
    "\n",
    "target = Design('target')\n",
    "part1 = workflow_step_1.generateBuild('part1', target)\n",
    "part2 = workflow_step_2.generateBuild('part2', target)\n",
    "part3 = workflow_step_3.generateBuild('part3', target)\n",
    "gibson_mix = workflow_step_4.generateBuild('gibson_mix', target, [part1, part2, part3])\n",
    "clones = workflow_step_5.generateBuild(['clone1', 'clone2', 'clone3'], target, gibson_mix)\n",
    "experiment1 = workflow_step_6.generateTest('experiment1', clones)\n",
    "analysis1 = workflow_step_7.generateAnalysis('analysis1', experiment1)\n",
    "\n",
    "response = doc.write('dbtl.xml')\n",
    "print(response)"
   ]
  },
  {
   "cell_type": "code",
   "execution_count": null,
   "metadata": {},
   "outputs": [],
   "source": []
  }
 ],
 "metadata": {
  "kernelspec": {
   "display_name": "Python 3",
   "language": "python",
   "name": "python3"
  },
  "language_info": {
   "codemirror_mode": {
    "name": "ipython",
    "version": 3
   },
   "file_extension": ".py",
   "mimetype": "text/x-python",
   "name": "python",
   "nbconvert_exporter": "python",
   "pygments_lexer": "ipython3",
   "version": "3.6.5"
  }
 },
 "nbformat": 4,
 "nbformat_minor": 2
}
