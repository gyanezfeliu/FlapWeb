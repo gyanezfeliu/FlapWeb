{
 "cells": [
  {
   "cell_type": "code",
   "execution_count": 1,
   "metadata": {},
   "outputs": [],
   "source": [
    "# Models\n",
    "#from LoadData.models import Experiment, Sample, Dna, Vector, Measurement, Inducer, LoadProcess\n",
    "# Data handling\n",
    "import pandas as pd\n",
    "import numpy as np\n",
    "import json\n",
    "import os\n",
    "import openpyxl as opxl\n",
    "from itertools import islice\n",
    "import csv\n",
    "import subprocess"
   ]
  },
  {
   "cell_type": "code",
   "execution_count": 2,
   "metadata": {},
   "outputs": [],
   "source": [
    "def fix_synergy_time(df):\n",
    "    t = np.array([])\n",
    "    for i, value in enumerate(df['Time']):\n",
    "        if i > 0:\n",
    "            if df['Time'].iloc[i].hour < df['Time'].iloc[i-1].hour:\n",
    "                t = np.append(t, [24 + value.hour + value.minute/60 + value.second/3600])\n",
    "            else:\n",
    "                t = np.append(t, [value.hour + value.minute/60 + value.second/3600])\n",
    "        else:\n",
    "            t = np.append(t, [value.hour + value.minute/60 + value.second/3600])\n",
    "    df['Time'] = t"
   ]
  },
  {
   "cell_type": "code",
   "execution_count": 24,
   "metadata": {},
   "outputs": [],
   "source": [
    "# Cargo Metadata desde el archivo JSON\n",
    "data_str = open('MetaTest.json').read()\n",
    "data = json.loads(data_str)\n",
    "df_json = pd.read_json(data)\n",
    "columns = [x+str(y) for x in ['A', 'B', 'C', 'D', 'E', 'F', 'G', 'H'] for y in range(1,13)]\n",
    "df_json.columns = columns\n",
    "df_json.index = ['Strain', 'Media', 'DNA']\n",
    "\n",
    "#If el usuario no me da el nombre del experimento, le pongo el nombre del archivo de datos\n",
    "experiment_name = os.path.basename('ExpTest.xlsx').split('/')[-1].split('.')[0]"
   ]
  },
  {
   "cell_type": "code",
   "execution_count": 26,
   "metadata": {},
   "outputs": [],
   "source": [
    "# Estas medidas deben venir dadas por el usuario y yo debo sumar \"Results\"\n",
    "medidas = ['OD600:600', 'RFP-YFP:585/10,620/15', 'RFP-YFP:500/27,540/25', 'CFP:420/50,485/20', 'Results']\n",
    "\n",
    "wb = opxl.load_workbook(filename = 'ExpTest.xlsx', data_only=True)\n",
    "ws = wb['Data']\n",
    "machine_name = ws['B'][8].value + str(ws['B'][9].value)\n",
    "\n",
    "# Completar esta lista para todos los posibles valores de longitudes de onda\n",
    "name_map = {'OD600:600':'OD', 'RFP-YFP:500/27,540/25':'YFP', 'CFP:420/50,485/20':'CFP',\n",
    "'RFP-YFP:585/10,620/15':'RFP'}"
   ]
  },
  {
   "cell_type": "code",
   "execution_count": 7,
   "metadata": {},
   "outputs": [],
   "source": [
    "# Elimino metadata de la hoja 'Data'\n",
    "lista_rows = [(celda.value, celda.row, opxl.utils.column_index_from_string(celda.column))\n",
    "        for celda in ws['A']\n",
    "        if celda.value in medidas]\n",
    "ws.delete_rows(0, lista_rows[0][1] + 1)\n",
    "lista_rows2 = [(celda.value, celda.row, opxl.utils.column_index_from_string(celda.column))\n",
    "        for celda in ws['A']\n",
    "        if celda.value in medidas]"
   ]
  },
  {
   "cell_type": "code",
   "execution_count": 8,
   "metadata": {},
   "outputs": [],
   "source": [
    "data = ws.values\n",
    "cols = next(data)[1:]\n",
    "data = list(data)\n",
    "idx = [r[0] for r in data]\n",
    "data = (islice(r, 1, None) for r in data)\n",
    "df = pd.DataFrame(data, columns=cols)\n",
    "df = df.drop('T° OD600:600', axis=1)"
   ]
  },
  {
   "cell_type": "code",
   "execution_count": 9,
   "metadata": {},
   "outputs": [],
   "source": [
    "df_OD = pd.DataFrame(df.iloc[0:lista_rows2[0][1] - 3])\n",
    "df_OD['name'] = 'OD'\n",
    "fix_synergy_time(df_OD)"
   ]
  },
  {
   "cell_type": "code",
   "execution_count": 10,
   "metadata": {},
   "outputs": [],
   "source": [
    "df_RFP = pd.DataFrame(df.iloc[lista_rows2[0][1] + 1:lista_rows2[1][1] - 3])\n",
    "df_RFP['name'] = 'RFP'\n",
    "fix_synergy_time(df_RFP)\n",
    "df_RFP.index = range(97)\n",
    "#df_RFP"
   ]
  },
  {
   "cell_type": "code",
   "execution_count": 11,
   "metadata": {},
   "outputs": [],
   "source": [
    "df_YFP = pd.DataFrame(df.iloc[lista_rows2[1][1] + 1:lista_rows2[2][1] - 3])\n",
    "df_YFP['name'] = 'YFP'\n",
    "fix_synergy_time(df_YFP)\n",
    "df_YFP.index = range(97)\n",
    "#df_YFP"
   ]
  },
  {
   "cell_type": "code",
   "execution_count": 12,
   "metadata": {},
   "outputs": [],
   "source": [
    "df_CFP = pd.DataFrame(df.iloc[lista_rows2[2][1] + 1:lista_rows2[3][1] - 3])\n",
    "df_CFP['name'] = 'CFP'\n",
    "fix_synergy_time(df_CFP)\n",
    "df_CFP.index = range(97)\n",
    "#df_CFP"
   ]
  },
  {
   "cell_type": "code",
   "execution_count": 14,
   "metadata": {},
   "outputs": [
    {
     "ename": "NameError",
     "evalue": "name 'Experiment' is not defined",
     "output_type": "error",
     "traceback": [
      "\u001b[0;31m---------------------------------------------------------------------------\u001b[0m",
      "\u001b[0;31mNameError\u001b[0m                                 Traceback (most recent call last)",
      "\u001b[0;32m<ipython-input-14-26bfb84463ac>\u001b[0m in \u001b[0;36m<module>\u001b[0;34m\u001b[0m\n\u001b[1;32m      2\u001b[0m \u001b[0;34m\u001b[0m\u001b[0m\n\u001b[1;32m      3\u001b[0m \u001b[0;31m# 1) Experiment\u001b[0m\u001b[0;34m\u001b[0m\u001b[0;34m\u001b[0m\u001b[0;34m\u001b[0m\u001b[0m\n\u001b[0;32m----> 4\u001b[0;31m \u001b[0me\u001b[0m \u001b[0;34m=\u001b[0m \u001b[0mExperiment\u001b[0m\u001b[0;34m(\u001b[0m\u001b[0mname\u001b[0m\u001b[0;34m=\u001b[0m\u001b[0mexperiment_name\u001b[0m\u001b[0;34m,\u001b[0m \u001b[0mmachine\u001b[0m\u001b[0;34m=\u001b[0m\u001b[0mmachine_name\u001b[0m\u001b[0;34m)\u001b[0m\u001b[0;34m\u001b[0m\u001b[0;34m\u001b[0m\u001b[0m\n\u001b[0m\u001b[1;32m      5\u001b[0m \u001b[0me\u001b[0m\u001b[0;34m.\u001b[0m\u001b[0msave\u001b[0m\u001b[0;34m(\u001b[0m\u001b[0;34m)\u001b[0m\u001b[0;34m\u001b[0m\u001b[0;34m\u001b[0m\u001b[0m\n\u001b[1;32m      6\u001b[0m \u001b[0;34m\u001b[0m\u001b[0m\n",
      "\u001b[0;31mNameError\u001b[0m: name 'Experiment' is not defined"
     ]
    }
   ],
   "source": [
    "dfs = [df_OD, df_RFP, df_YFP, df_CFP]\n",
    "\n",
    "# 1) Experiment\n",
    "e = Experiment(name=experiment_name, machine=machine_name)\n",
    "e.save()\n",
    "\n",
    "# 2) Sample\n",
    "# get experiment_id\n",
    "# row, col, media, strain\n",
    "\n",
    "# 3) DNA\n",
    "# name\n",
    "\n",
    "# Empiezo a recorrer los platillos que están en df_json: indexes: strain, media, dna:\n",
    "for col_name, col_serie in df_json.iteritems():\n",
    "    # experiment_id\n",
    "    existing_dna = [i.name for i in Dna.objects.all()]\n",
    "\n",
    "    plate_row = col_name[0]\n",
    "    plate_col = col_name[1:]\n",
    "    st = col_serie['Strain']['value']\n",
    "    med = col_serie['Media']['value']\n",
    "\n",
    "    s = Sample(experiment=e, row=plate_row, col=plate_col, media=med, strain=st)\n",
    "    s.save()\n",
    "\n",
    "    DNA_name = col_serie['DNA']['value']\n",
    "    if DNA_name != 'None':\n",
    "        if DNA_name not in existing_dna:\n",
    "            d = Dna(name=DNA_name, sboluri='')\n",
    "            d.save()\n",
    "            v = Vector(dna=d, sample=s)\n",
    "            v.save()\n",
    "        else:\n",
    "            d = Dna.objects.filter(name__exact=DNA_name)[0]\n",
    "            v = Vector(dna=d, sample=s)\n",
    "            v.save()\n",
    "    # 4) Measurement\n",
    "    # name, value, time\n",
    "    for df in dfs:\n",
    "        for i, value in enumerate(df[col_name]):\n",
    "            nam = df['name'].iloc[i]\n",
    "            val = value\n",
    "            #t = df['Time'].iloc[i]\n",
    "            t = i\n",
    "            m = Measurement(sample=s, name=nam, value=val, time=t)\n",
    "            m.save()\n"
   ]
  },
  {
   "cell_type": "code",
   "execution_count": null,
   "metadata": {},
   "outputs": [],
   "source": []
  }
 ],
 "metadata": {
  "kernelspec": {
   "display_name": "Python 3",
   "language": "python",
   "name": "python3"
  },
  "language_info": {
   "codemirror_mode": {
    "name": "ipython",
    "version": 3
   },
   "file_extension": ".py",
   "mimetype": "text/x-python",
   "name": "python",
   "nbconvert_exporter": "python",
   "pygments_lexer": "ipython3",
   "version": "3.6.8"
  }
 },
 "nbformat": 4,
 "nbformat_minor": 2
}
